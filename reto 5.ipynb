{
  "nbformat": 4,
  "nbformat_minor": 0,
  "metadata": {
    "colab": {
      "provenance": []
    },
    "kernelspec": {
      "name": "python3",
      "display_name": "Python 3"
    },
    "language_info": {
      "name": "python"
    }
  },
  "cells": [
    {
      "cell_type": "markdown",
      "source": [
        "Dado un número entero, determinar si ese número corresponde al código ASCII de una vocal minúscula."
      ],
      "metadata": {
        "id": "lnPm3m-o11GX"
      }
    },
    {
      "cell_type": "code",
      "source": [
        "x : int\n",
        "x = int(input(\"ingrese un valor digito: \"))\n",
        "if x == 97:\n",
        "  print(\"el numero 97 corresponde a la vocal minuscula a \")\n",
        "elif x == 101:\n",
        "  print(\"el numero 101 corresponde a la vocal minuscula e\")\n",
        "elif x == 105:\n",
        "  print(\"el numero 105 corresponde a la vocal minuscula i\")\n",
        "elif x == 111:\n",
        "  print(\"el numero 111 corresponde a la vocal minuscula o\")\n",
        "elif x == 117:\n",
        "  print(\"el numero 117 corresponde a la vocal minuscula u\")\n",
        "else:\n",
        " print(\"no pertenece a ninguna vocal\")"
      ],
      "metadata": {
        "id": "Z7CoCmrV19KW"
      },
      "execution_count": null,
      "outputs": []
    },
    {
      "cell_type": "markdown",
      "source": [
        "Dada una cadena de longitud 1, determine si el código ASCII de primera letra de la cadena es par o no."
      ],
      "metadata": {
        "id": "uxS3jmuR46zU"
      }
    },
    {
      "cell_type": "code",
      "source": [
        "cadena_longitud = input(\"ingrese una cadena de longitud 1 \")\n",
        "numero = ord(cadena_longitud)\n",
        "if numero % 2 == 0:\n",
        "  print(\"es par\")\n",
        "else:\n",
        "  print(\"no es par\")"
      ],
      "metadata": {
        "colab": {
          "base_uri": "https://localhost:8080/"
        },
        "id": "SViN2zaM5V4E",
        "outputId": "7a812dde-a0a6-403a-da47-71544e4b3a47"
      },
      "execution_count": null,
      "outputs": [
        {
          "output_type": "stream",
          "name": "stdout",
          "text": [
            "ingrese una cadena de longitud 1  \n",
            "es par\n"
          ]
        }
      ]
    },
    {
      "cell_type": "markdown",
      "source": [
        "Dado un carácter, construya un programa en Python para determinar si el carácter es un dígito o no."
      ],
      "metadata": {
        "id": "EjU3eadG-DZY"
      }
    },
    {
      "cell_type": "code",
      "source": [
        "caracter = input(\"ingrese un caracter: \")\n",
        "if caracter >= \"0\" and caracter <= \"9\":\n",
        "    print(\"el caracter es digito\")\n",
        "else:\n",
        "  print(\"no es digito\")"
      ],
      "metadata": {
        "colab": {
          "base_uri": "https://localhost:8080/"
        },
        "id": "MakQ7pqU8ek_",
        "outputId": "9e19ccaf-1f99-41c2-86d8-445e218bba81"
      },
      "execution_count": null,
      "outputs": [
        {
          "output_type": "stream",
          "name": "stdout",
          "text": [
            "ingrese un caracter: \n",
            "no es digito\n"
          ]
        }
      ]
    },
    {
      "cell_type": "markdown",
      "source": [
        "Realice un programa que lea dos números reales y determine si el primero es múltiplo del segundo."
      ],
      "metadata": {
        "id": "fiBppb9vAh7G"
      }
    },
    {
      "cell_type": "code",
      "source": [
        "x : float\n",
        "n : float\n",
        "x = float(input(\"ingrese un numero: \"))\n",
        "n = float(input(\"ingrese otro numero: \"))\n",
        "if n % x == 0:\n",
        "  print(\"es multiplo de \" + str(n))\n",
        "else:\n",
        "  print(\"no es multiplo de \" + str(x))\n",
        "\n"
      ],
      "metadata": {
        "colab": {
          "base_uri": "https://localhost:8080/"
        },
        "id": "Bgb6ucktBHvV",
        "outputId": "b82dd146-6f8c-4af0-fa14-a3ed467b251d"
      },
      "execution_count": null,
      "outputs": [
        {
          "output_type": "stream",
          "name": "stdout",
          "text": [
            "ingrese un numero: 76\n",
            "ingrese otro numero: 124\n",
            "no es multiplo76.0\n"
          ]
        }
      ]
    },
    {
      "cell_type": "markdown",
      "source": [
        "Dado un número real x, construya un programa que permita determinar si el número es positivo, negativo o cero. Para cada caso de debe imprimir el texto que se especifica a continuación:"
      ],
      "metadata": {
        "id": "50NOwrigDcEL"
      }
    },
    {
      "cell_type": "code",
      "source": [
        "x : float\n",
        "x = float(input(\"ingrese un numero: \"))\n",
        "if x < 0:\n",
        "  print(\"El número \" + str(x) + \" es negativo\")\n",
        "elif x == 0:\n",
        "  print(\"El número \" + str(x) + \" es el neutro para la suma\")\n",
        "else:\n",
        "  print(\"El numero \" + str(x) + \" es positivo\")"
      ],
      "metadata": {
        "id": "YtFaSAyADeMs"
      },
      "execution_count": null,
      "outputs": []
    },
    {
      "cell_type": "markdown",
      "source": [
        "Dado el centro y el radio de un círculo, determinar si un punto de R2 pertenece o no al interior del círculo."
      ],
      "metadata": {
        "id": "nD45RprcOo2T"
      }
    },
    {
      "cell_type": "code",
      "source": [
        "x : float\n",
        "y : float\n",
        "cen_h : float\n",
        "cen_k : float\n",
        "r : float\n",
        "r = float(input(\"ingrese un calor para el radio: \"))\n",
        "x = float(input(\"ingrese un valor para x \"))\n",
        "y = float(input(\"ingrese un valor para y \"))\n",
        "cen_h = float(input(\"ingrese un valor para el centro en x \"))\n",
        "cen_k = float(input(\"ingrese un valor para el centro en y \"))\n",
        "if (x-cen_h)**2 + (y-cen_k)**2 <= r*2:\n",
        "  print(\"el punto si pertenece al interior\")\n",
        "else:\n",
        "  print(\"el punto no pertenece al interior\")"
      ],
      "metadata": {
        "colab": {
          "base_uri": "https://localhost:8080/"
        },
        "id": "MWynGczb3yYo",
        "outputId": "c93c05b3-025a-4c20-cb11-058c62ff741c"
      },
      "execution_count": 3,
      "outputs": [
        {
          "output_type": "stream",
          "name": "stdout",
          "text": [
            "ingrese un calor para el radio: 4\n",
            "ingrese un valor para x 12\n",
            "ingrese un valor para y 12\n",
            "ingrese un valor para el centro en x 8\n",
            "ingrese un valor para el centro en y 0\n",
            "el punto no pertenece al interior\n"
          ]
        }
      ]
    },
    {
      "cell_type": "markdown",
      "source": [
        "Dadas tres longitudes positivas, determinar si con esas longitudes se puede construir un triángulo."
      ],
      "metadata": {
        "id": "d9i1eQBL7kJv"
      }
    },
    {
      "cell_type": "code",
      "source": [
        "cateto_o : float\n",
        "cateto_a : float\n",
        "cateto_h : float\n",
        "\n",
        "cateto_o = float(input(\"digite un valor para el cateto numero 1: \"))\n",
        "cateto_a = float(input(\"digite un valor para el cateto numero 2: \"))\n",
        "cateto_h = float(input(\"digite un valor para el cateto numero 3: \"))\n",
        "\n",
        "if cateto_o + cateto_h > cateto_a and cateto_a + cateto_h > cateto_o and cateto_o + cateto_a > cateto_h:\n",
        "  print(\"si se puede construir un triangulo con las medidas dadas\")\n",
        "else:\n",
        "  print(\"no se puede construir un triangulo, porfavor cambie las medidas... \")"
      ],
      "metadata": {
        "colab": {
          "base_uri": "https://localhost:8080/"
        },
        "id": "vCcgGrQM7osu",
        "outputId": "b8b5dc0d-70ce-43d0-a19a-a02bc4c2c5c6"
      },
      "execution_count": 15,
      "outputs": [
        {
          "output_type": "stream",
          "name": "stdout",
          "text": [
            "digite un valor para el cateto numero 1: 14\n",
            "digite un valor para el cateto numero 2: 54\n",
            "digite un valor para el cateto numero 3: 8\n",
            "no se puede construir un triangulo, porfavor cambie las medidas... \n"
          ]
        }
      ]
    },
    {
      "cell_type": "markdown",
      "source": [
        "Escriba un programa que reciba el nombre en minúsculas de un país de America y retorne la ciudad capital, si el país no pertenece al continente debe arrojar país no identificado (Utilice match-case)."
      ],
      "metadata": {
        "id": "vO7Z3RsuJ2Za"
      }
    },
    {
      "cell_type": "code",
      "source": [
        "pais = input(\"ingrese un pais de america: \")\n",
        "\n",
        "match pais:\n",
        "  case \"colombia\":\n",
        "    print(\"la capital de colombia es bogota\")\n",
        "  case \"argentina\":\n",
        "    print(\"la capital de argentina es buenos aires\")\n",
        "  case \"brasil\":\n",
        "    print(\"la capital de brasil es brasilia\")\n",
        "  case \"puerto rico\":\n",
        "    print(\"la capital de puertorico es san juan\")\n",
        "  case \"guatemala\":\n",
        "    print(\"la capital de guatemala es ciudad de guatemala\")\n",
        "  case \"honduras\":\n",
        "    print(\"la capital de honduras es tegucigalpa\")\n",
        "  case \"mexico\":\n",
        "    print(\"la capital de mexico es ciudad de mexico\")\n",
        "  case \"chile\":\n",
        "    print(\"la capital de chile es santiago de chile\")\n",
        "  case \"venezuela\":\n",
        "    print(\"la capital de venezuela es caracas\")\n",
        "  case \"el salvador\":\n",
        "    print(\"la capital de el salvador es san savador\")\n",
        "  case \"nicaragua\":\n",
        "    print(\"la capital de nicaragua es managua\")\n",
        "  case \"costa rica\":\n",
        "    print(\"la capital de costa rica es san jose\")\n",
        "  case \"panama\":\n",
        "    print(\"la capital de panama es panama\")\n",
        "  case \"bolivia\":\n",
        "    print(\"la capital de bolivia es sucre\")\n",
        "  case \"ecuador\":\n",
        "    print(\"la capital de ecuador es quito\")\n",
        "  case \"paraguay\":\n",
        "    print(\"la capital de paraguay es asuncion\")\n",
        "  case \"uruguay\":\n",
        "    print(\"la capital de uruguay es montevideo\")\n",
        "  case \"peru\":\n",
        "    print(\"la capital de peru es lima\")\n",
        "  case \"canada\":\n",
        "    print(\"la capital de canada es ottawa\")\n",
        "  case \"estados unidos\":\n",
        "   print(\"la capital de estados unidos es washington D.C\")\n",
        "  case _:\n",
        "   print(\"ese pais no pertenece a america\")"
      ],
      "metadata": {
        "colab": {
          "base_uri": "https://localhost:8080/"
        },
        "id": "ElqEiK7TJ5ry",
        "outputId": "9070c1a7-878a-4558-cc64-f5f7a0abe95a"
      },
      "execution_count": 21,
      "outputs": [
        {
          "output_type": "stream",
          "name": "stdout",
          "text": [
            "ingrese un pais de america: costa rica\n",
            "la capital de costa rica es san jose\n"
          ]
        }
      ]
    }
  ]
}